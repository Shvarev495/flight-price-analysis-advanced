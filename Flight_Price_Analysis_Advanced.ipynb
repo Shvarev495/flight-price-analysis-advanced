{
 "cells": [
  {
   "cell_type": "markdown",
   "id": "88501b50",
   "metadata": {},
   "source": [
    "# ✈️ Анализ цен на авиабилеты\n",
    "Расширенный аналитический проект: исследуем маршруты, классы, пересадки и создаём новые метрики."
   ]
  },
  {
   "cell_type": "code",
   "execution_count": null,
   "id": "847cf52e",
   "metadata": {},
   "outputs": [],
   "source": [
    "import pandas as pd\n",
    "import matplotlib.pyplot as plt\n",
    "import seaborn as sns\n",
    "import warnings\n",
    "warnings.filterwarnings('ignore')\n",
    "\n",
    "df = pd.read_csv('flight_prices_sample.csv')\n",
    "df['RouteName'] = df['Source'] + ' → ' + df['Destination']\n",
    "df.head()"
   ]
  },
  {
   "cell_type": "code",
   "execution_count": null,
   "id": "7e25736b",
   "metadata": {},
   "outputs": [],
   "source": [
    "avg_prices = df.groupby('RouteName')['Price'].mean().sort_values(ascending=False)\n",
    "avg_prices.plot(kind='bar', figsize=(10, 4), title='Средняя цена по маршрутам')\n",
    "plt.ylabel('Цена')\n",
    "plt.xticks(rotation=45)\n",
    "plt.grid(True)\n",
    "plt.tight_layout()\n",
    "plt.show()"
   ]
  },
  {
   "cell_type": "code",
   "execution_count": null,
   "id": "42d7f3a8",
   "metadata": {},
   "outputs": [],
   "source": [
    "sns.barplot(data=df, x='Class', y='Price')\n",
    "plt.title('Средняя цена по классам обслуживания')\n",
    "plt.grid(True)\n",
    "plt.show()"
   ]
  },
  {
   "cell_type": "code",
   "execution_count": null,
   "id": "7125440b",
   "metadata": {},
   "outputs": [],
   "source": [
    "top_routes = avg_prices.head(5)\n",
    "top_routes.plot(kind='bar', color='tomato', title='Топ-5 дорогих маршрутов')\n",
    "plt.ylabel('Цена')\n",
    "plt.xticks(rotation=45)\n",
    "plt.grid(True)\n",
    "plt.tight_layout()\n",
    "plt.show()"
   ]
  },
  {
   "cell_type": "code",
   "execution_count": null,
   "id": "fbad47cf",
   "metadata": {},
   "outputs": [],
   "source": [
    "df.groupby('Airline')['Price'].mean().sort_values(ascending=False)"
   ]
  },
  {
   "cell_type": "code",
   "execution_count": null,
   "id": "b3ad16af",
   "metadata": {},
   "outputs": [],
   "source": [
    "df['RouteName'].value_counts().head(10)"
   ]
  },
  {
   "cell_type": "code",
   "execution_count": null,
   "id": "c957f015",
   "metadata": {},
   "outputs": [],
   "source": [
    "df.groupby('Total_Stops')['Price'].mean().sort_values()"
   ]
  },
  {
   "cell_type": "code",
   "execution_count": null,
   "id": "002eed87",
   "metadata": {},
   "outputs": [],
   "source": [
    "df.groupby('Class')['Price'].max()"
   ]
  },
  {
   "cell_type": "code",
   "execution_count": null,
   "id": "6d654c0a",
   "metadata": {},
   "outputs": [],
   "source": [
    "# Перевод длительности в минуты\n",
    "def duration_to_minutes(s):\n",
    "    h, m = 0, 0\n",
    "    if 'h' in s:\n",
    "        h = int(s.split('h')[0].strip())\n",
    "    if 'm' in s:\n",
    "        m = int(s.split('h')[-1].replace('m', '').strip()) if 'm' in s else 0\n",
    "    return h * 60 + m\n",
    "\n",
    "df['Duration_Minutes'] = df['Duration'].apply(duration_to_minutes)\n",
    "df['Price_Per_Minute'] = df['Price'] / df['Duration_Minutes']\n",
    "df[['RouteName', 'Price', 'Duration', 'Price_Per_Minute']]"
   ]
  },
  {
   "cell_type": "markdown",
   "id": "1fbb7a80",
   "metadata": {},
   "source": [
    "## 💡 Выводы\n",
    "- У маршрутов разная средняя цена, даже при одинаковом расстоянии\n",
    "- Класс обслуживания и количество пересадок сильно влияют на стоимость\n",
    "- Метрика 'цена за минуту' помогает сравнивать эффективность\n",
    "- Проект можно расширить анализом по авиакомпаниям, времени и дате"
   ]
  }
 ],
 "metadata": {},
 "nbformat": 4,
 "nbformat_minor": 5
}
